{
 "cells": [
  {
   "cell_type": "markdown",
   "id": "503c5891",
   "metadata": {},
   "source": [
    "# TOPIC: KNN\n",
    "\n",
    "\n",
    "                                                                                      Erubiel Tun Moo\n",
    "                                                                                      09/10/2023\n",
    "                                                                                      Machine Learning"
   ]
  },
  {
   "cell_type": "markdown",
   "id": "e38c52f2",
   "metadata": {},
   "source": [
    "\n",
    "###  -Explain of the intuition behind the KNN ALGORITHM\n",
    "\n",
    "The K-Nearest Neighbors (KNN) algorithm is a supervised learning algorithm and for classification problems, the objective is to predict the class of an object from the classes of the k nearest objects in the feature space; The value of k can be chosen arbitrarily however this can significantly affect the accuracy of the results, since choosing a small value for k means that the prediction is based on few close neighbors, while a large value of k means that the prediction is based on many close neighbors. In this algorithm, the distance between objects is calculated using a distance measure and the most common is the Euclidean distance, which is defined as the square root of the sum of the squares of the differences between the coordinates of the two points."
   ]
  },
  {
   "cell_type": "markdown",
   "id": "464063b5",
   "metadata": {},
   "source": [
    "### -Algorithm pseudocode"
   ]
  },
  {
   "cell_type": "markdown",
   "id": "dd4f88d2",
   "metadata": {},
   "source": [
    "1. Import the necessary libraries.\n",
    "2. Load the dataset.\n",
    "3. Create DataFrames for x and y\n",
    "4. Split the data set into training and testing\n",
    "5. Initialize the value of k.\n",
    "6. For each element in the data set:\n",
    "   \n",
    "   6.1 Calculate the distance between the element and the data point for which you want to make a prediction.\n",
    "   \n",
    "   6.2 Add the element's distance and label to a list.\n",
    "   \n",
    "7. Sort the list of distances in ascending order.\n",
    "8. Get the k closest elements of the sorted list created in step 7.\n",
    "9. Get the most common label of the k elements obtained in step 8.\n",
    "10. Return the label obtained in step 6 as a prediction result."
   ]
  },
  {
   "cell_type": "markdown",
   "id": "d0f0bd90",
   "metadata": {},
   "source": [
    "### -Implementation of the algorithm"
   ]
  },
  {
   "cell_type": "code",
   "execution_count": 1,
   "id": "b726b200",
   "metadata": {},
   "outputs": [],
   "source": [
    "import numpy as np\n",
    "import pandas as pd\n",
    "import matplotlib.pyplot as plt"
   ]
  },
  {
   "cell_type": "code",
   "execution_count": 2,
   "id": "78dd8165",
   "metadata": {},
   "outputs": [
    {
     "data": {
      "text/html": [
       "<div>\n",
       "<style scoped>\n",
       "    .dataframe tbody tr th:only-of-type {\n",
       "        vertical-align: middle;\n",
       "    }\n",
       "\n",
       "    .dataframe tbody tr th {\n",
       "        vertical-align: top;\n",
       "    }\n",
       "\n",
       "    .dataframe thead th {\n",
       "        text-align: right;\n",
       "    }\n",
       "</style>\n",
       "<table border=\"1\" class=\"dataframe\">\n",
       "  <thead>\n",
       "    <tr style=\"text-align: right;\">\n",
       "      <th></th>\n",
       "      <th>Age</th>\n",
       "      <th>Estimated Salary</th>\n",
       "    </tr>\n",
       "  </thead>\n",
       "  <tbody>\n",
       "    <tr>\n",
       "      <th>0</th>\n",
       "      <td>19</td>\n",
       "      <td>19000</td>\n",
       "    </tr>\n",
       "    <tr>\n",
       "      <th>1</th>\n",
       "      <td>35</td>\n",
       "      <td>20000</td>\n",
       "    </tr>\n",
       "    <tr>\n",
       "      <th>2</th>\n",
       "      <td>26</td>\n",
       "      <td>43000</td>\n",
       "    </tr>\n",
       "    <tr>\n",
       "      <th>3</th>\n",
       "      <td>27</td>\n",
       "      <td>57000</td>\n",
       "    </tr>\n",
       "    <tr>\n",
       "      <th>4</th>\n",
       "      <td>19</td>\n",
       "      <td>76000</td>\n",
       "    </tr>\n",
       "    <tr>\n",
       "      <th>...</th>\n",
       "      <td>...</td>\n",
       "      <td>...</td>\n",
       "    </tr>\n",
       "    <tr>\n",
       "      <th>395</th>\n",
       "      <td>46</td>\n",
       "      <td>41000</td>\n",
       "    </tr>\n",
       "    <tr>\n",
       "      <th>396</th>\n",
       "      <td>51</td>\n",
       "      <td>23000</td>\n",
       "    </tr>\n",
       "    <tr>\n",
       "      <th>397</th>\n",
       "      <td>50</td>\n",
       "      <td>20000</td>\n",
       "    </tr>\n",
       "    <tr>\n",
       "      <th>398</th>\n",
       "      <td>36</td>\n",
       "      <td>33000</td>\n",
       "    </tr>\n",
       "    <tr>\n",
       "      <th>399</th>\n",
       "      <td>49</td>\n",
       "      <td>36000</td>\n",
       "    </tr>\n",
       "  </tbody>\n",
       "</table>\n",
       "<p>400 rows × 2 columns</p>\n",
       "</div>"
      ],
      "text/plain": [
       "     Age  Estimated Salary\n",
       "0     19             19000\n",
       "1     35             20000\n",
       "2     26             43000\n",
       "3     27             57000\n",
       "4     19             76000\n",
       "..   ...               ...\n",
       "395   46             41000\n",
       "396   51             23000\n",
       "397   50             20000\n",
       "398   36             33000\n",
       "399   49             36000\n",
       "\n",
       "[400 rows x 2 columns]"
      ]
     },
     "metadata": {},
     "output_type": "display_data"
    },
    {
     "data": {
      "text/html": [
       "<div>\n",
       "<style scoped>\n",
       "    .dataframe tbody tr th:only-of-type {\n",
       "        vertical-align: middle;\n",
       "    }\n",
       "\n",
       "    .dataframe tbody tr th {\n",
       "        vertical-align: top;\n",
       "    }\n",
       "\n",
       "    .dataframe thead th {\n",
       "        text-align: right;\n",
       "    }\n",
       "</style>\n",
       "<table border=\"1\" class=\"dataframe\">\n",
       "  <thead>\n",
       "    <tr style=\"text-align: right;\">\n",
       "      <th></th>\n",
       "      <th>Purchased</th>\n",
       "    </tr>\n",
       "  </thead>\n",
       "  <tbody>\n",
       "    <tr>\n",
       "      <th>0</th>\n",
       "      <td>0</td>\n",
       "    </tr>\n",
       "    <tr>\n",
       "      <th>1</th>\n",
       "      <td>0</td>\n",
       "    </tr>\n",
       "    <tr>\n",
       "      <th>2</th>\n",
       "      <td>0</td>\n",
       "    </tr>\n",
       "    <tr>\n",
       "      <th>3</th>\n",
       "      <td>0</td>\n",
       "    </tr>\n",
       "    <tr>\n",
       "      <th>4</th>\n",
       "      <td>0</td>\n",
       "    </tr>\n",
       "    <tr>\n",
       "      <th>...</th>\n",
       "      <td>...</td>\n",
       "    </tr>\n",
       "    <tr>\n",
       "      <th>395</th>\n",
       "      <td>1</td>\n",
       "    </tr>\n",
       "    <tr>\n",
       "      <th>396</th>\n",
       "      <td>1</td>\n",
       "    </tr>\n",
       "    <tr>\n",
       "      <th>397</th>\n",
       "      <td>1</td>\n",
       "    </tr>\n",
       "    <tr>\n",
       "      <th>398</th>\n",
       "      <td>0</td>\n",
       "    </tr>\n",
       "    <tr>\n",
       "      <th>399</th>\n",
       "      <td>1</td>\n",
       "    </tr>\n",
       "  </tbody>\n",
       "</table>\n",
       "<p>400 rows × 1 columns</p>\n",
       "</div>"
      ],
      "text/plain": [
       "     Purchased\n",
       "0            0\n",
       "1            0\n",
       "2            0\n",
       "3            0\n",
       "4            0\n",
       "..         ...\n",
       "395          1\n",
       "396          1\n",
       "397          1\n",
       "398          0\n",
       "399          1\n",
       "\n",
       "[400 rows x 1 columns]"
      ]
     },
     "metadata": {},
     "output_type": "display_data"
    }
   ],
   "source": [
    "dataset = pd.read_csv('Social_Network_Ads.csv')\n",
    "x = dataset.iloc[:, [2, 3]].values  # Edad y Salario estimado\n",
    "y = dataset.iloc[:, 4].values  # Comprado (0 o 1)\n",
    "df_x = pd.DataFrame(x, columns=['Age', 'Estimated Salary'])\n",
    "df_y = pd.DataFrame(y, columns=['Purchased'])\n",
    "\n",
    "display(df_x)\n",
    "display(df_y)"
   ]
  },
  {
   "cell_type": "code",
   "execution_count": 3,
   "id": "7786d666",
   "metadata": {},
   "outputs": [],
   "source": [
    "def train_test_split_custom(x, y, test_size=0.2, random_state=None):\n",
    "    if random_state is not None:\n",
    "        np.random.seed(random_state)\n",
    "    num_samples = len(x)\n",
    "    indices = np.arange(num_samples)\n",
    "    np.random.shuffle(indices)\n",
    "    test_size = int(test_size * num_samples)\n",
    "    test_indices = indices[:test_size]\n",
    "    train_indices = indices[test_size:]\n",
    "    x_train, y_train = x[train_indices], y[train_indices]\n",
    "    x_test, y_test = x[test_indices], y[test_indices]\n",
    "    return x_train, x_test, y_train, y_test"
   ]
  },
  {
   "cell_type": "code",
   "execution_count": 4,
   "id": "2253e35d",
   "metadata": {},
   "outputs": [],
   "source": [
    "x_train, x_test, y_train, y_test = train_test_split_custom(x, y, test_size=0.20, random_state=0)"
   ]
  },
  {
   "cell_type": "code",
   "execution_count": 5,
   "id": "20ed728d",
   "metadata": {},
   "outputs": [],
   "source": [
    "def standardize(x_train, x_test):\n",
    "    mean = np.mean(x_train, axis=0)\n",
    "    std = np.std(x_train, axis=0)\n",
    "    x_train = (x_train - mean) / std\n",
    "    x_test = (x_test - mean) / std\n",
    "    return x_train, x_test\n",
    "\n",
    "x_train, x_test = standardize(x_train, x_test)"
   ]
  },
  {
   "cell_type": "code",
   "execution_count": 6,
   "id": "18291f08",
   "metadata": {},
   "outputs": [],
   "source": [
    "def euclidean_distance(x1, x2):\n",
    "    return np.sqrt(np.sum((x1 - x2) ** 2))"
   ]
  },
  {
   "cell_type": "code",
   "execution_count": 7,
   "id": "4f36d951",
   "metadata": {},
   "outputs": [],
   "source": [
    "class KNNClassifier:\n",
    "    def __init__(self, k=5):\n",
    "        self.k = k\n",
    "\n",
    "    def fit(self, x_train, y_train):\n",
    "        self.x_train = x_train\n",
    "        self.y_train = y_train\n",
    "\n",
    "    def predict(self, x_test):\n",
    "        y_pred = [self._predict(x) for x in x_test]\n",
    "        return np.array(y_pred)\n",
    "\n",
    "    def _predict(self, x):\n",
    "        # Calcular las distancias entre x y todos los puntos de entrenamiento\n",
    "        distances = [euclidean_distance(x, x_train) for x_train in self.x_train]\n",
    "        # Obtener índices de los k vecinos más cercanos\n",
    "        k_indices = np.argsort(distances)[:self.k]\n",
    "        # Obtener las etiquetas de los k vecinos más cercanos\n",
    "        k_nearest_labels = [self.y_train[i] for i in k_indices]\n",
    "        # Devolver la etiqueta más común entre los k vecinos\n",
    "        most_common = np.bincount(k_nearest_labels).argmax()\n",
    "        return most_common"
   ]
  },
  {
   "cell_type": "code",
   "execution_count": 8,
   "id": "4cec129a",
   "metadata": {},
   "outputs": [],
   "source": [
    "classifier = KNNClassifier(k=5)\n",
    "classifier.fit(x_train, y_train)"
   ]
  },
  {
   "cell_type": "code",
   "execution_count": 9,
   "id": "3823134c",
   "metadata": {},
   "outputs": [],
   "source": [
    "y_pred = classifier.predict(x_test)"
   ]
  },
  {
   "cell_type": "code",
   "execution_count": 10,
   "id": "97ff13dc",
   "metadata": {},
   "outputs": [
    {
     "name": "stdout",
     "output_type": "stream",
     "text": [
      "Classification Results:\n",
      "Class 0: 55 correctly classified, 3 incorrects\n",
      "Class 1: 21 correctly classified, 1 incorrects\n"
     ]
    }
   ],
   "source": [
    "def confusion_matrix_custom(y_true, y_pred):\n",
    "    tp = np.sum((y_true == 1) & (y_pred == 1))\n",
    "    tn = np.sum((y_true == 0) & (y_pred == 0))\n",
    "    fp = np.sum((y_true == 0) & (y_pred == 1))\n",
    "    fn = np.sum((y_true == 1) & (y_pred == 0))\n",
    "    return np.array([[tn, fp], [fn, tp]])\n",
    "\n",
    "cm = confusion_matrix_custom(y_test, y_pred)\n",
    "\n",
    "def print_classification_results(cm):\n",
    "    print(\"Classification Results:\")\n",
    "    for i in range(cm.shape[0]):\n",
    "        correct = cm[i, i]\n",
    "        incorrect = np.sum(cm[i, :]) - correct\n",
    "        print(f\"Class {i}: {correct} correctly classified, {incorrect} incorrects\")\n",
    "\n",
    "# Results\n",
    "print_classification_results(cm)\n"
   ]
  },
  {
   "cell_type": "code",
   "execution_count": 11,
   "id": "d1ce50c6",
   "metadata": {},
   "outputs": [
    {
     "name": "stdout",
     "output_type": "stream",
     "text": [
      "accuracy: 0.95\n"
     ]
    }
   ],
   "source": [
    "def accuracy(y_true, y_pred):\n",
    "    correct_predictions = np.sum(y_true == y_pred)\n",
    "    total_predictions = len(y_true)\n",
    "    accuracy = correct_predictions / total_predictions\n",
    "    return accuracy\n",
    "\n",
    "# accuracy\n",
    "accuracy_score = accuracy(y_test, y_pred)\n",
    "print(\"accuracy:\", accuracy_score)"
   ]
  },
  {
   "cell_type": "code",
   "execution_count": 12,
   "id": "f9ffdef3",
   "metadata": {},
   "outputs": [
    {
     "data": {
      "image/png": "[encoded data removed]",
      "text/plain": [
       "<Figure size 640x480 with 1 Axes>"
      ]
     },
     "metadata": {},
     "output_type": "display_data"
    }
   ],
   "source": [
    "#Graph the results, this is additional; I just wanted to see the results graphed.\n",
    "\n",
    "from matplotlib.colors import ListedColormap  # Agrega esta línea de importación\n",
    "\n",
    "X_set, y_set = x_test, y_test\n",
    "x1_min, x1_max = X_set[:, 0].min() - 1, X_set[:, 0].max() + 1\n",
    "x2_min, x2_max = X_set[:, 1].min() - 1, X_set[:, 1].max() + 1\n",
    "xx1, xx2 = np.meshgrid(np.arange(x1_min, x1_max, 0.05), np.arange(x2_min, x2_max, 0.05))\n",
    "\n",
    "\n",
    "Z = classifier.predict(np.c_[xx1.ravel(), xx2.ravel()])\n",
    "Z = Z.reshape(xx1.shape)\n",
    "plt.contourf(xx1, xx2, Z, alpha=0.75, cmap=ListedColormap(('red', 'purple')))\n",
    "plt.xlim(xx1.min(), xx1.max())\n",
    "plt.ylim(xx2.min(), xx2.max())\n",
    "\n",
    "for i, j in enumerate(np.unique(y_set)):\n",
    "    plt.scatter(X_set[y_set == j, 0], X_set[y_set == j, 1], c=[ListedColormap(('red', 'purple'))(i)], label=j)\n",
    "\n",
    "plt.title('K-NN')\n",
    "plt.xlabel('Age')\n",
    "plt.ylabel('Estimated Salary')\n",
    "plt.legend()\n",
    "plt.show()"
   ]
  },
  {
   "cell_type": "markdown",
   "id": "372986c7",
   "metadata": {},
   "source": [
    "### - Loss function + Optimization function identification\n",
    "\n",
    "In this particular case, the KNN algorithm has neither a loss function nor an optimization function because this algorithm does not learn any parametric model during the training process, but rather the KNN algorithm compares a new data with the stored training examples to determine to which class this new data belongs."
   ]
  }
 ],
 "metadata": {
  "kernelspec": {
   "display_name": "Python 3 (ipykernel)",
   "language": "python",
   "name": "python3"
  },
  "language_info": {
   "codemirror_mode": {
    "name": "ipython",
    "version": 3
   },
   "file_extension": ".py",
   "mimetype": "text/x-python",
   "name": "python",
   "nbconvert_exporter": "python",
   "pygments_lexer": "ipython3",
   "version": "3.7.3"
  }
 },
 "nbformat": 4,
 "nbformat_minor": 5
}
